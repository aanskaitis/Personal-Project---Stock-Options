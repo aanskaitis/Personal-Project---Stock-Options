{
 "cells": [
  {
   "cell_type": "code",
   "execution_count": 1,
   "metadata": {},
   "outputs": [],
   "source": [
    "import pandas as pd\n",
    "import numpy as np\n",
    "import matplotlib.pyplot as plt"
   ]
  },
  {
   "cell_type": "code",
   "execution_count": 2,
   "metadata": {},
   "outputs": [],
   "source": [
    "# Sell Put\n",
    "\n",
    "def payoff_holder(k, s_price):\n",
    "    if s_price < k:\n",
    "        payoff = k - s_price\n",
    "    else:\n",
    "        payoff = 0\n",
    "    return payoff\n",
    "\n",
    "def payoff_selling_put(k, s_price):\n",
    "    if s_price < k:\n",
    "        payoff = s_price - k\n",
    "    else:\n",
    "        payoff = 0\n",
    "    return payoff\n",
    "\n",
    "def profit_selling_put(k, s_price, p0):\n",
    "    if s_price < k:\n",
    "        profit = s_price - k + p0\n",
    "    else:\n",
    "        profit = p0\n",
    "    return profit"
   ]
  },
  {
   "cell_type": "code",
   "execution_count": 3,
   "metadata": {},
   "outputs": [],
   "source": [
    "# Buy Put\n",
    "\n",
    "def payoff_buying_put(k, s_price):\n",
    "    if s_price < k:\n",
    "        payoff = k - s_price\n",
    "    else:\n",
    "        payoff = 0\n",
    "    return payoff\n",
    "\n",
    "def profit_buying_put(k, s_price, p0):\n",
    "    if s_price < k:\n",
    "        profit = k - s_price - p0\n",
    "    else:\n",
    "        profit = -p0\n",
    "    return profit"
   ]
  },
  {
   "cell_type": "code",
   "execution_count": 4,
   "metadata": {},
   "outputs": [],
   "source": [
    "# Sell Call\n",
    "\n",
    "def payoff_selling_call(k, s_price):\n",
    "    if s_price < k:\n",
    "        payoff = p0\n",
    "    else:\n",
    "        payoff = k - s_price\n",
    "    return payoff\n",
    "\n",
    "def profit_selling_call(k, s_price, p0):\n",
    "    if s_price < k:\n",
    "        profit = p0\n",
    "    else:\n",
    "        profit = k - s_price + p0\n",
    "    return profit"
   ]
  },
  {
   "cell_type": "code",
   "execution_count": 5,
   "metadata": {},
   "outputs": [],
   "source": [
    "# Buy Call\n",
    "\n",
    "def payoff_buying_call(k, s_price):\n",
    "    if s_price < k:\n",
    "        payoff = 0\n",
    "    else:\n",
    "        payoff = 0\n",
    "    return payoff\n",
    "\n",
    "def profit_buying_call(k, s_price, p0):\n",
    "    if s_price < k:\n",
    "        profit = -p0\n",
    "    else:\n",
    "        profit = s_price - k - p0\n",
    "    return profit"
   ]
  },
  {
   "cell_type": "code",
   "execution_count": 6,
   "metadata": {},
   "outputs": [],
   "source": [
    "def profit_analysis(k, s_price, p0):\n",
    "    print(f'Profit Buy Put = {profit_buying_put(k, s_price, p0)}')\n",
    "    print(f'Profit Sell Put = {profit_selling_put(k, s_price, p0)}')\n",
    "    print(f'Profit Buy Call = {profit_buying_call(k, s_price, p0)}')\n",
    "    print(f'Profit Sell Call = {profit_selling_call(k, s_price, p0)}')"
   ]
  },
  {
   "cell_type": "code",
   "execution_count": 7,
   "metadata": {},
   "outputs": [
    {
     "name": "stdout",
     "output_type": "stream",
     "text": [
      "Profit Buy Put = -4\n",
      "Profit Sell Put = 4\n",
      "Profit Buy Call = 10\n",
      "Profit Sell Call = -10\n"
     ]
    }
   ],
   "source": [
    "# Example:\n",
    "# strike price = 60\n",
    "# stock price = 74\n",
    "# cost of an option = 4\n",
    "\n",
    "profit_analysis(60, 74, 4)"
   ]
  },
  {
   "cell_type": "code",
   "execution_count": 10,
   "metadata": {},
   "outputs": [],
   "source": [
    "# Filling some data\n",
    "\n",
    "sell_call = np.array([profit_selling_call(40, i, 5) for i in range(30, 80)])\n",
    "buy_call = np.array([profit_buying_call(70, i, 4) for i in range(30, 80)])\n",
    "buy_put = np.array([profit_buying_put(60, i, 7) for i in range(30, 80)])\n",
    "sell_put = np.array([profit_selling_put(25, i, 5) for i in range(30, 80)])\n",
    "\n",
    "stock_price = np.array(range(30, 80))"
   ]
  },
  {
   "cell_type": "code",
   "execution_count": 13,
   "metadata": {},
   "outputs": [
    {
     "data": {
      "text/plain": [
       "<matplotlib.legend.Legend at 0x15f98356580>"
      ]
     },
     "execution_count": 13,
     "metadata": {},
     "output_type": "execute_result"
    },
    {
     "data": {
      "image/png": "[encoded data removed]",
      "text/plain": [
       "<Figure size 432x288 with 1 Axes>"
      ]
     },
     "metadata": {
      "needs_background": "light"
     },
     "output_type": "display_data"
    }
   ],
   "source": [
    "# Plotting profit of options, depending on their strike price (k) and the cost of an option (p0)\n",
    "\n",
    "plt.plot(stock_price, buy_call, color='blue', label='Profit For buy-call, k=70, p0=4')\n",
    "plt.plot(stock_price, sell_call, color='black', label='Profit For sell-call, k=40, p0=5')\n",
    "plt.xlabel(\"Stock price\")\n",
    "plt.ylabel('Profit')\n",
    "plt.legend()"
   ]
  }
 ],
 "metadata": {
  "kernelspec": {
   "display_name": "Python 3",
   "language": "python",
   "name": "python3"
  },
  "language_info": {
   "codemirror_mode": {
    "name": "ipython",
    "version": 3
   },
   "file_extension": ".py",
   "mimetype": "text/x-python",
   "name": "python",
   "nbconvert_exporter": "python",
   "pygments_lexer": "ipython3",
   "version": "3.8.5"
  }
 },
 "nbformat": 4,
 "nbformat_minor": 2
}
